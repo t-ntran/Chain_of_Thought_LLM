{
 "cells": [
  {
   "cell_type": "code",
   "execution_count": 8,
   "metadata": {},
   "outputs": [],
   "source": [
    "from openai import OpenAI\n",
    "import sys\n",
    "import time\n",
    "import pandas as pd\n",
    "import numpy as np\n"
   ]
  },
  {
   "cell_type": "code",
   "execution_count": null,
   "metadata": {},
   "outputs": [],
   "source": [
    "client = OpenAI(\n",
    "    api_key=\"secret\"\n",
    ")"
   ]
  },
  {
   "cell_type": "code",
   "execution_count": null,
   "metadata": {},
   "outputs": [
    {
     "name": "stdout",
     "output_type": "stream",
     "text": [
      "Subset 1 written to subset_1.csv\n",
      "Subset 2 written to subset_2.csv\n",
      "Subset 3 written to subset_3.csv\n",
      "Subset 4 written to subset_4.csv\n",
      "Subset 5 written to subset_5.csv\n"
     ]
    }
   ],
   "source": [
    "#spliting the dataset\n",
    "file_path = r\"C:\\Users\\sdtnt\\cse256\\Final_Project2\\data\\Pew_American_Trends_Panel_disagreement_500.csv\"\n",
    "data = pd.read_csv(file_path, on_bad_lines=\"skip\", delimiter=\"\\t\")\n",
    "\n",
    "\n",
    "# shuffle the dataset for randomness\n",
    "data_shuffled = data.sample(frac=1, random_state=42).reset_index(drop=True)\n",
    "\n",
    "# split data into non-overlapping subsets\n",
    "def split_into_subsets(data, num_subsets):\n",
    "    subsets = []\n",
    "    subset_size = len(data) // num_subsets\n",
    "    \n",
    "    for i in range(num_subsets):\n",
    "        start_idx = i * subset_size\n",
    "        end_idx = (i + 1) * subset_size if i != num_subsets - 1 else len(data)\n",
    "        subsets.append(data.iloc[start_idx:end_idx])\n",
    "    \n",
    "    return subsets\n",
    "\n",
    "num_subsets = 5\n",
    "subsets = split_into_subsets(data_shuffled, num_subsets)\n",
    "\n",
    "# Write each subset to a separate file\n",
    "for idx, subset in enumerate(subsets):\n",
    "    output_file = f'subset_{idx + 1}.csv'\n",
    "    subset.to_csv(output_file, index=False)\n",
    "    print(f\"Subset {idx + 1} written to {output_file}\")\n"
   ]
  },
  {
   "cell_type": "code",
   "execution_count": 35,
   "metadata": {},
   "outputs": [],
   "source": [
    "prompt_base = f''' '''\n",
    "\n",
    "prompt_explain = f'''Explain your answer.'''\n",
    "\n",
    "prompt_arg = f'''Write a 200 word essay to argue your answer.'''\n",
    "\n",
    "prompt_pick = f'''Pick an opinion and write a 200 word argumentative essay.'''\n",
    "\n",
    "prompt_detailed = f'''Pick one perspective to answer this question. Write a 200 word essay to argue only your side of the argument'''\n",
    "\n",
    "prompt_evidence = f'''Write a 200 word argumentative essay to answer this question include evidence to back your claim.'''\n",
    "# prompt_lib = f'''Take the standpoint of a liberal. Write a 200 word argumentative essay'''\n",
    "\n",
    "# prompt_con = f'''Take the standpoint of a conservative. Write a 200 word argumentative essay'''\n",
    "\n",
    "\n",
    "prompts = (prompt_base,\n",
    "    prompt_explain,\n",
    "    prompt_arg,\n",
    "    prompt_pick,\n",
    "    prompt_detailed,\n",
    "    prompt_evidence)"
   ]
  },
  {
   "cell_type": "code",
   "execution_count": null,
   "metadata": {},
   "outputs": [],
   "source": [
    "def get_opinion(question, prompt):\n",
    "    completion = client.chat.completions.create(\n",
    "        model=\"gpt-3.5-turbo\",\n",
    "        messages=[\n",
    "            {\"role\": \"system\", \"content\": \"You are a helpful assistant.\"},\n",
    "            {\n",
    "                \"role\": \"user\",\n",
    "                \"content\": '\\n'.join(question) + ' ' + prompt\n",
    "            }\n",
    "        ]\n",
    "    )\n",
    "    return completion.choices[0].message.content"
   ]
  },
  {
   "cell_type": "code",
   "execution_count": 53,
   "metadata": {},
   "outputs": [
    {
     "name": "stdout",
     "output_type": "stream",
     "text": [
      "As an AI assistant, I do not have personal wealth or income, so the question of whether taxes should be raised on people like me is moot. However, I can provide arguments on both sides of the issue.\n",
      "\n",
      "Advocates for raising taxes on the wealthy argue that it is a way to address economic inequality, as those with higher incomes can afford to contribute more towards public services and social welfare programs. They point to research that shows a correlation between high levels of economic inequality and social problems such as crime rates, health disparities, and lower educational attainment.\n",
      "\n",
      "On the other hand, opponents of raising taxes on the wealthy argue that it can stifle economic growth and discourage investment, ultimately harming job creation and overall prosperity. They point to the potential for wealthy individuals to seek out tax avoidance strategies or move their assets offshore, reducing tax revenue without addressing the root causes of economic inequality.\n",
      "\n",
      "In conclusion, the question of whether taxes should be raised on people like me depends on one's values and priorities regarding economic equality and social welfare. Balancing these factors requires careful consideration of the potential impacts on economic growth, government revenue, and social outcomes.\n"
     ]
    }
   ],
   "source": [
    "def test():\n",
    "    completion = client.chat.completions.create(\n",
    "        model=\"gpt-3.5-turbo\",\n",
    "        messages=[\n",
    "            {\"role\": \"system\", \"content\": \"You are a helpful assistant.\"},\n",
    "            {\n",
    "                \"role\": \"user\",\n",
    "                \"content\": \"In order to address economic inequality in this country, do you think the government Should raise taxes on people like you', 'Should not raise taxes on people like you' Write a 200 word argumentative essay to answer this question include evidence to back your claim.\"\n",
    "            }\n",
    "        ]\n",
    "    )\n",
    "\n",
    "    print(completion.choices[0].message.content)\n",
    "\n",
    "test()"
   ]
  },
  {
   "cell_type": "code",
   "execution_count": 38,
   "metadata": {},
   "outputs": [],
   "source": [
    "import csv"
   ]
  },
  {
   "cell_type": "code",
   "execution_count": 50,
   "metadata": {},
   "outputs": [],
   "source": [
    "with open('baseline_prompt.csv', 'r') as csv_file:\n",
    "    csv_reader = csv.DictReader(csv_file)\n",
    "\n",
    "    for index, row in enumerate(csv_reader):\n",
    "        question = row.get('question', None)\n",
    "        filename = f\"{index + 1}.txt\"\n",
    "                    \n",
    "        # Write the generated output to a file\n",
    "        with open(filename, 'w') as output_file:\n",
    "            if question:\n",
    "                for prompt in prompts:\n",
    "                    header = '\\n' + question + prompt + '\\n'\n",
    "                    output = get_opinion(question, prompt)\n",
    "                    output_file.write(header)\n",
    "                    output_file.write(output)\n",
    "                    output_file.write('\\n \\n ----------------------------------------------------------------')\n",
    "                "
   ]
  },
  {
   "cell_type": "code",
   "execution_count": 51,
   "metadata": {},
   "outputs": [],
   "source": [
    "with open('100_Q.csv', 'r') as csv_file:\n",
    "    csv_reader = csv.DictReader(csv_file)\n",
    "    with open('100_Q_GPT_responses', 'w') as output_file:\n",
    "        for index, row in enumerate(csv_reader):\n",
    "            question = row.get('question', None)\n",
    "            if question:\n",
    "                header = '\\n' + question + prompt + '\\n'\n",
    "                output = get_opinion(question, prompt_evidence)\n",
    "                output_file.write(header)\n",
    "                output_file.write(output)\n",
    "                output_file.write('\\n \\n ----------------------------------------------------------------')"
   ]
  }
 ],
 "metadata": {
  "kernelspec": {
   "display_name": "base",
   "language": "python",
   "name": "python3"
  },
  "language_info": {
   "codemirror_mode": {
    "name": "ipython",
    "version": 3
   },
   "file_extension": ".py",
   "mimetype": "text/x-python",
   "name": "python",
   "nbconvert_exporter": "python",
   "pygments_lexer": "ipython3",
   "version": "3.10.15"
  }
 },
 "nbformat": 4,
 "nbformat_minor": 2
}
